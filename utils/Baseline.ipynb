{
 "cells": [
  {
   "cell_type": "code",
   "execution_count": 185,
   "metadata": {},
   "outputs": [],
   "source": [
    "# imports the necessary libraries and modules\n",
    "import numpy as np\n",
    "import torch\n",
    "from torchvision.datasets import MNIST\n",
    "from torch.utils.data import DataLoader,Dataset\n",
    "from torchvision import datasets, transforms\n",
    "from torch.utils.data import random_split\n",
    "from FreeFormDeformation import DeformationLayer\n",
    "import matplotlib.pyplot as plt\n",
    "from torch import nn, optim\n",
    "from deepali.core import functional as U\n",
    "from tqdm import tqdm"
   ]
  },
  {
   "cell_type": "code",
   "execution_count": 186,
   "metadata": {},
   "outputs": [
    {
     "name": "stdout",
     "output_type": "stream",
     "text": [
      "cpu\n"
     ]
    }
   ],
   "source": [
    "device = torch.device(\"cuda\" if torch.cuda.is_available() else \"cpu\")\n",
    "print(device)"
   ]
  },
  {
   "cell_type": "code",
   "execution_count": 187,
   "metadata": {},
   "outputs": [
    {
     "name": "stdout",
     "output_type": "stream",
     "text": [
      "torch.Size([60000, 28, 28])\n",
      "<class 'torch.Tensor'>\n"
     ]
    }
   ],
   "source": [
    "# Define the path where the dataset is stored\n",
    "data_path = 'D:\\\\Dokumente\\\\03_RCI\\\\practical\\\\MNIST'\n",
    "\n",
    "# Load the MNIST dataset without labels\n",
    "mnist_dataset = MNIST(data_path, train=True, download=True, transform=None)\n",
    "images = mnist_dataset.data\n",
    "\n",
    "# Print the shape of the images tensor\n",
    "print(images.shape)\n",
    "print(type(images))"
   ]
  },
  {
   "cell_type": "code",
   "execution_count": 188,
   "metadata": {},
   "outputs": [
    {
     "name": "stdout",
     "output_type": "stream",
     "text": [
      "Files already downloaded and verified\n",
      "torch.Size([50000, 32, 32])\n",
      "<class 'torch.Tensor'>\n"
     ]
    }
   ],
   "source": [
    "# Make the same for cifar10\n",
    "data_path = 'D:\\\\Dokumente\\\\03_RCI\\\\practical\\\\cifar10'\n",
    "cifar10_dataset = datasets.CIFAR10(data_path, train=True, download=True, transform=None)\n",
    "images_cifar10 = cifar10_dataset.data\n",
    "\n",
    "# Convert to black and white\n",
    "images = np.mean(images_cifar10, axis=3)\n",
    "images = torch.from_numpy(images)\n",
    "print(images.shape)\n",
    "print(type(images))"
   ]
  },
  {
   "cell_type": "code",
   "execution_count": 189,
   "metadata": {},
   "outputs": [],
   "source": [
    "# Define a random fraction of the images\n",
    "import random\n",
    "random_fraction = 600/50000\n",
    "random_indices = random.sample(range(len(images)), int(random_fraction * len(images)))\n",
    "images = images[random_indices]\n",
    "\n",
    "transform = transforms.Resize((32, 32))\n",
    "images = transform(images)\n",
    "\n",
    "#print(images.shape)\n",
    "#print(type(images))\n",
    "#print(images[0][:][:].max())\n"
   ]
  },
  {
   "cell_type": "code",
   "execution_count": 190,
   "metadata": {},
   "outputs": [
    {
     "name": "stdout",
     "output_type": "stream",
     "text": [
      "117.57261657714844 61.8972282409668\n"
     ]
    }
   ],
   "source": [
    "def get_mean_std(tensor):\n",
    "    # Calculate the mean of the tensor\n",
    "    mean = tensor.float().mean()\n",
    "    \n",
    "    # Calculate the standard deviation of the tensor\n",
    "    std = tensor.float().std()\n",
    "    \n",
    "    return mean.item(), std.item()\n",
    "\n",
    "mean, std = get_mean_std(images)\n",
    "print(mean, std)"
   ]
  },
  {
   "cell_type": "code",
   "execution_count": 191,
   "metadata": {},
   "outputs": [],
   "source": [
    "class CustomDataset(Dataset):\n",
    "    def __init__(self, images, shape,transform=None):\n",
    "        \"\"\"\n",
    "        Args:\n",
    "            images (torch.Tensor): The tensor containing image data.\n",
    "            shape: The shape of one image in the dataset.\n",
    "            mean (float): The mean value for normalization.\n",
    "            std (float): The standard deviation for normalization.\n",
    "            transform (bool): Whether to apply the transformation.\n",
    "        \"\"\"\n",
    "        self.images = images\n",
    "        self.shape = shape\n",
    "        self.transform = transform\n",
    "    \n",
    "    def __len__(self):\n",
    "        return len(self.images)\n",
    "    \n",
    "    def build_deformation_layer(self, device='cpu'):\n",
    "        \"\"\"\n",
    "        Build and return a new deformation layer for each call to __getitem__.\n",
    "        This method returns the created deformation layer.\n",
    "        \"\"\"\n",
    "        deformation_layer = DeformationLayer(self.shape)\n",
    "        deformation_layer.new_deformation(device=device)\n",
    "        return deformation_layer\n",
    "\n",
    "    def __getitem__(self, idx):\n",
    "        # Fetch the original image\n",
    "        original_image = self.images[idx].unsqueeze(0)  # Add batch dimension\n",
    "\n",
    "        # Build a new deformation layer for the current image\n",
    "        deformation_layer = self.build_deformation_layer()\n",
    "\n",
    "        # Apply deformation to get the deformed image\n",
    "        deformed_image = deformation_layer.deform(original_image)\n",
    "\n",
    "        # Fetch the current deformation field\n",
    "        deformation_field = deformation_layer.get_deformation_field().squeeze(0)\n",
    "        \n",
    "        # transform the images\n",
    "        if self.transform:\n",
    "            original_image = self.transform(original_image)\n",
    "            deformed_image = self.transform(deformed_image)\n",
    "            #print('mean and std of original image: ', original_image.mean(), original_image.std())\n",
    "            #print('max and min of original image: ', original_image.max(), original_image.min())\n",
    "\n",
    "        # Stack the original and deformed images along the channel dimension\n",
    "        stacked_image = torch.cat([original_image, deformed_image], dim=0).squeeze(0)\n",
    "\n",
    "        return stacked_image, deformation_field\n"
   ]
  },
  {
   "cell_type": "code",
   "execution_count": 192,
   "metadata": {},
   "outputs": [],
   "source": [
    "# Assuming 'images' is a batch of images loaded as a PyTorch tensor\n",
    "shape = images[0].shape[-2:]  # Image dimensions (height, width)\n",
    "\n",
    "# Create dataset\n",
    "dataset = CustomDataset(images, \n",
    "                        shape, \n",
    "                        transform=transforms.Compose([\n",
    "                            transforms.Normalize(mean = [mean], std = [std]) ])\n",
    "                        )\n",
    "# trainset and testset\n",
    "train_size = int(0.6 * len(dataset))\n",
    "val_size = int(0.2 * len(dataset))\n",
    "test_size = len(dataset) - train_size - val_size\n",
    "train_dataset, val_dataset, test_dataset = torch.utils.data.random_split(dataset, [train_size, val_size, test_size])\n",
    "\n",
    "# Define the DataLoader\n",
    "train_loader = DataLoader(train_dataset, batch_size=32, shuffle=True)\n",
    "val_loader = DataLoader(val_dataset, batch_size=32, shuffle=True)\n",
    "test_loader = DataLoader(test_dataset, batch_size=32, shuffle=True)"
   ]
  },
  {
   "cell_type": "code",
   "execution_count": 193,
   "metadata": {},
   "outputs": [
    {
     "name": "stdout",
     "output_type": "stream",
     "text": [
      "Max value of normalized images: 2.2202512549775864\n",
      "Min value of normalized images: -1.8994811224734742\n",
      "Max value of renormalized images: 1.0\n",
      "Min value of renormalized images: 0.0\n",
      "Batch Images Shape: torch.Size([32, 2, 32, 32])\n",
      "Batch Deformation Fields Shape: torch.Size([32, 2, 32, 32])\n"
     ]
    },
    {
     "data": {
      "image/png": "[encoded data removed]",
      "text/plain": [
       "<Figure size 1200x600 with 8 Axes>"
      ]
     },
     "metadata": {},
     "output_type": "display_data"
    }
   ],
   "source": [
    "def renormalize(tensor):\n",
    "        minFrom= tensor.min()\n",
    "        maxFrom= tensor.max()\n",
    "        minTo = 0\n",
    "        maxTo=1\n",
    "        return minTo + (maxTo - minTo) * ((tensor - minFrom) / (maxFrom - minFrom))\n",
    "\n",
    "data_iter = iter(train_loader)\n",
    "images, deformation_fields = next(data_iter)\n",
    "print('Max value of normalized images:', float(images.max()))\n",
    "print('Min value of normalized images:', float(images.min()))\n",
    "images = renormalize(images)\n",
    "print('Max value of renormalized images:', float(images.max()))\n",
    "print('Min value of renormalized images:', float(images.min()))\n",
    "# Printing shapes to ensure they are correct\n",
    "print(\"Batch Images Shape:\", images.shape)  # Should match [batch_size, channels, height, width]\n",
    "print(\"Batch Deformation Fields Shape:\", deformation_fields.shape)  # Should match expected format, e.g., [batch_size, 2, height, width]\n",
    "\n",
    "\n",
    "# Define the number of samples to display\n",
    "num_samples = 2\n",
    "\n",
    "# Create a figure with subplots in a grid 2x4\n",
    "fig, axes = plt.subplots(4, num_samples, figsize=(12, 6))\n",
    "\n",
    "for i in range(num_samples):\n",
    "    # Plotting the original and deformed images\n",
    "    \n",
    "    ax = axes[0, i]\n",
    "    ax.imshow(images[i,0,:,:].numpy(), cmap='gray') # Original image\n",
    "    ax.title.set_text('Original Image')\n",
    "    ax.axis('off')\n",
    "\n",
    "    ax = axes[1, i]\n",
    "    ax.imshow(images[i,1].numpy(), cmap='gray') # Deformed image\n",
    "    ax.title.set_text('Deformed Image')\n",
    "    ax.axis('off')\n",
    "\n",
    "    ax = axes[2, i] \n",
    "    ax.imshow(deformation_fields[i, 0].numpy(), cmap='gray')  # X-component of the field\n",
    "    ax.title.set_text('Displacement Field X')\n",
    "    ax.axis('off')\n",
    "\n",
    "    ax = axes[3, i] \n",
    "    ax.imshow(deformation_fields[i, 1].numpy(), cmap='gray')  # Y-component of the field\n",
    "    ax.title.set_text('Displacement Field Y')\n",
    "    ax.axis('off')\n",
    "\n",
    "plt.tight_layout()\n",
    "plt.show()\n",
    "\n",
    "\n"
   ]
  },
  {
   "cell_type": "code",
   "execution_count": 173,
   "metadata": {},
   "outputs": [
    {
     "name": "stdout",
     "output_type": "stream",
     "text": [
      "Attention lvl 0 8 8\n",
      "Attention lvl 1 8 16\n",
      "Attention lvl 2 16 32\n",
      "Attention lvl 3 32 64\n"
     ]
    },
    {
     "data": {
      "text/plain": [
       "Unet(\n",
       "  (init_conv): Conv2d(2, 8, kernel_size=(7, 7), stride=(1, 1), padding=(3, 3))\n",
       "  (time_mlp): Sequential(\n",
       "    (0): SinusoidalPosEmb()\n",
       "    (1): Linear(in_features=8, out_features=32, bias=True)\n",
       "    (2): GELU(approximate='none')\n",
       "    (3): Linear(in_features=32, out_features=32, bias=True)\n",
       "  )\n",
       "  (downs): ModuleList(\n",
       "    (0): ModuleList(\n",
       "      (0-1): 2 x ResnetBlock(\n",
       "        (mlp): Sequential(\n",
       "          (0): SiLU()\n",
       "          (1): Linear(in_features=32, out_features=16, bias=True)\n",
       "        )\n",
       "        (block1): Block(\n",
       "          (proj): Conv2d(8, 8, kernel_size=(3, 3), stride=(1, 1), padding=(1, 1))\n",
       "          (norm): GroupNorm(8, 8, eps=1e-05, affine=True)\n",
       "          (act): SiLU()\n",
       "        )\n",
       "        (block2): Block(\n",
       "          (proj): Conv2d(8, 8, kernel_size=(3, 3), stride=(1, 1), padding=(1, 1))\n",
       "          (norm): GroupNorm(8, 8, eps=1e-05, affine=True)\n",
       "          (act): SiLU()\n",
       "        )\n",
       "        (res_conv): Identity()\n",
       "      )\n",
       "      (2): Residual(\n",
       "        (fn): PreNorm(\n",
       "          (fn): LinearAttention(\n",
       "            (to_qkv): Conv2d(8, 384, kernel_size=(1, 1), stride=(1, 1), bias=False)\n",
       "            (to_out): Sequential(\n",
       "              (0): Conv2d(128, 8, kernel_size=(1, 1), stride=(1, 1))\n",
       "              (1): LayerNorm()\n",
       "            )\n",
       "          )\n",
       "          (norm): LayerNorm()\n",
       "        )\n",
       "      )\n",
       "      (3): Conv2d(8, 8, kernel_size=(4, 4), stride=(2, 2), padding=(1, 1))\n",
       "    )\n",
       "    (1): ModuleList(\n",
       "      (0): ResnetBlock(\n",
       "        (mlp): Sequential(\n",
       "          (0): SiLU()\n",
       "          (1): Linear(in_features=32, out_features=32, bias=True)\n",
       "        )\n",
       "        (block1): Block(\n",
       "          (proj): Conv2d(8, 16, kernel_size=(3, 3), stride=(1, 1), padding=(1, 1))\n",
       "          (norm): GroupNorm(8, 16, eps=1e-05, affine=True)\n",
       "          (act): SiLU()\n",
       "        )\n",
       "        (block2): Block(\n",
       "          (proj): Conv2d(16, 16, kernel_size=(3, 3), stride=(1, 1), padding=(1, 1))\n",
       "          (norm): GroupNorm(8, 16, eps=1e-05, affine=True)\n",
       "          (act): SiLU()\n",
       "        )\n",
       "        (res_conv): Conv2d(8, 16, kernel_size=(1, 1), stride=(1, 1))\n",
       "      )\n",
       "      (1): ResnetBlock(\n",
       "        (mlp): Sequential(\n",
       "          (0): SiLU()\n",
       "          (1): Linear(in_features=32, out_features=32, bias=True)\n",
       "        )\n",
       "        (block1): Block(\n",
       "          (proj): Conv2d(16, 16, kernel_size=(3, 3), stride=(1, 1), padding=(1, 1))\n",
       "          (norm): GroupNorm(8, 16, eps=1e-05, affine=True)\n",
       "          (act): SiLU()\n",
       "        )\n",
       "        (block2): Block(\n",
       "          (proj): Conv2d(16, 16, kernel_size=(3, 3), stride=(1, 1), padding=(1, 1))\n",
       "          (norm): GroupNorm(8, 16, eps=1e-05, affine=True)\n",
       "          (act): SiLU()\n",
       "        )\n",
       "        (res_conv): Identity()\n",
       "      )\n",
       "      (2): Residual(\n",
       "        (fn): PreNorm(\n",
       "          (fn): LinearAttention(\n",
       "            (to_qkv): Conv2d(16, 384, kernel_size=(1, 1), stride=(1, 1), bias=False)\n",
       "            (to_out): Sequential(\n",
       "              (0): Conv2d(128, 16, kernel_size=(1, 1), stride=(1, 1))\n",
       "              (1): LayerNorm()\n",
       "            )\n",
       "          )\n",
       "          (norm): LayerNorm()\n",
       "        )\n",
       "      )\n",
       "      (3): Conv2d(16, 16, kernel_size=(4, 4), stride=(2, 2), padding=(1, 1))\n",
       "    )\n",
       "    (2): ModuleList(\n",
       "      (0): ResnetBlock(\n",
       "        (mlp): Sequential(\n",
       "          (0): SiLU()\n",
       "          (1): Linear(in_features=32, out_features=64, bias=True)\n",
       "        )\n",
       "        (block1): Block(\n",
       "          (proj): Conv2d(16, 32, kernel_size=(3, 3), stride=(1, 1), padding=(1, 1))\n",
       "          (norm): GroupNorm(8, 32, eps=1e-05, affine=True)\n",
       "          (act): SiLU()\n",
       "        )\n",
       "        (block2): Block(\n",
       "          (proj): Conv2d(32, 32, kernel_size=(3, 3), stride=(1, 1), padding=(1, 1))\n",
       "          (norm): GroupNorm(8, 32, eps=1e-05, affine=True)\n",
       "          (act): SiLU()\n",
       "        )\n",
       "        (res_conv): Conv2d(16, 32, kernel_size=(1, 1), stride=(1, 1))\n",
       "      )\n",
       "      (1): ResnetBlock(\n",
       "        (mlp): Sequential(\n",
       "          (0): SiLU()\n",
       "          (1): Linear(in_features=32, out_features=64, bias=True)\n",
       "        )\n",
       "        (block1): Block(\n",
       "          (proj): Conv2d(32, 32, kernel_size=(3, 3), stride=(1, 1), padding=(1, 1))\n",
       "          (norm): GroupNorm(8, 32, eps=1e-05, affine=True)\n",
       "          (act): SiLU()\n",
       "        )\n",
       "        (block2): Block(\n",
       "          (proj): Conv2d(32, 32, kernel_size=(3, 3), stride=(1, 1), padding=(1, 1))\n",
       "          (norm): GroupNorm(8, 32, eps=1e-05, affine=True)\n",
       "          (act): SiLU()\n",
       "        )\n",
       "        (res_conv): Identity()\n",
       "      )\n",
       "      (2): Residual(\n",
       "        (fn): PreNorm(\n",
       "          (fn): LinearAttention(\n",
       "            (to_qkv): Conv2d(32, 384, kernel_size=(1, 1), stride=(1, 1), bias=False)\n",
       "            (to_out): Sequential(\n",
       "              (0): Conv2d(128, 32, kernel_size=(1, 1), stride=(1, 1))\n",
       "              (1): LayerNorm()\n",
       "            )\n",
       "          )\n",
       "          (norm): LayerNorm()\n",
       "        )\n",
       "      )\n",
       "      (3): Conv2d(32, 32, kernel_size=(4, 4), stride=(2, 2), padding=(1, 1))\n",
       "    )\n",
       "    (3): ModuleList(\n",
       "      (0): ResnetBlock(\n",
       "        (mlp): Sequential(\n",
       "          (0): SiLU()\n",
       "          (1): Linear(in_features=32, out_features=128, bias=True)\n",
       "        )\n",
       "        (block1): Block(\n",
       "          (proj): Conv2d(32, 64, kernel_size=(3, 3), stride=(1, 1), padding=(1, 1))\n",
       "          (norm): GroupNorm(8, 64, eps=1e-05, affine=True)\n",
       "          (act): SiLU()\n",
       "        )\n",
       "        (block2): Block(\n",
       "          (proj): Conv2d(64, 64, kernel_size=(3, 3), stride=(1, 1), padding=(1, 1))\n",
       "          (norm): GroupNorm(8, 64, eps=1e-05, affine=True)\n",
       "          (act): SiLU()\n",
       "        )\n",
       "        (res_conv): Conv2d(32, 64, kernel_size=(1, 1), stride=(1, 1))\n",
       "      )\n",
       "      (1): ResnetBlock(\n",
       "        (mlp): Sequential(\n",
       "          (0): SiLU()\n",
       "          (1): Linear(in_features=32, out_features=128, bias=True)\n",
       "        )\n",
       "        (block1): Block(\n",
       "          (proj): Conv2d(64, 64, kernel_size=(3, 3), stride=(1, 1), padding=(1, 1))\n",
       "          (norm): GroupNorm(8, 64, eps=1e-05, affine=True)\n",
       "          (act): SiLU()\n",
       "        )\n",
       "        (block2): Block(\n",
       "          (proj): Conv2d(64, 64, kernel_size=(3, 3), stride=(1, 1), padding=(1, 1))\n",
       "          (norm): GroupNorm(8, 64, eps=1e-05, affine=True)\n",
       "          (act): SiLU()\n",
       "        )\n",
       "        (res_conv): Identity()\n",
       "      )\n",
       "      (2): Residual(\n",
       "        (fn): PreNorm(\n",
       "          (fn): LinearAttention(\n",
       "            (to_qkv): Conv2d(64, 384, kernel_size=(1, 1), stride=(1, 1), bias=False)\n",
       "            (to_out): Sequential(\n",
       "              (0): Conv2d(128, 64, kernel_size=(1, 1), stride=(1, 1))\n",
       "              (1): LayerNorm()\n",
       "            )\n",
       "          )\n",
       "          (norm): LayerNorm()\n",
       "        )\n",
       "      )\n",
       "      (3): Identity()\n",
       "    )\n",
       "  )\n",
       "  (ups): ModuleList(\n",
       "    (0): ModuleList(\n",
       "      (0): ResnetBlock(\n",
       "        (mlp): Sequential(\n",
       "          (0): SiLU()\n",
       "          (1): Linear(in_features=32, out_features=64, bias=True)\n",
       "        )\n",
       "        (block1): Block(\n",
       "          (proj): Conv2d(128, 32, kernel_size=(3, 3), stride=(1, 1), padding=(1, 1))\n",
       "          (norm): GroupNorm(8, 32, eps=1e-05, affine=True)\n",
       "          (act): SiLU()\n",
       "        )\n",
       "        (block2): Block(\n",
       "          (proj): Conv2d(32, 32, kernel_size=(3, 3), stride=(1, 1), padding=(1, 1))\n",
       "          (norm): GroupNorm(8, 32, eps=1e-05, affine=True)\n",
       "          (act): SiLU()\n",
       "        )\n",
       "        (res_conv): Conv2d(128, 32, kernel_size=(1, 1), stride=(1, 1))\n",
       "      )\n",
       "      (1): ResnetBlock(\n",
       "        (mlp): Sequential(\n",
       "          (0): SiLU()\n",
       "          (1): Linear(in_features=32, out_features=64, bias=True)\n",
       "        )\n",
       "        (block1): Block(\n",
       "          (proj): Conv2d(32, 32, kernel_size=(3, 3), stride=(1, 1), padding=(1, 1))\n",
       "          (norm): GroupNorm(8, 32, eps=1e-05, affine=True)\n",
       "          (act): SiLU()\n",
       "        )\n",
       "        (block2): Block(\n",
       "          (proj): Conv2d(32, 32, kernel_size=(3, 3), stride=(1, 1), padding=(1, 1))\n",
       "          (norm): GroupNorm(8, 32, eps=1e-05, affine=True)\n",
       "          (act): SiLU()\n",
       "        )\n",
       "        (res_conv): Identity()\n",
       "      )\n",
       "      (2): Residual(\n",
       "        (fn): PreNorm(\n",
       "          (fn): LinearAttention(\n",
       "            (to_qkv): Conv2d(32, 384, kernel_size=(1, 1), stride=(1, 1), bias=False)\n",
       "            (to_out): Sequential(\n",
       "              (0): Conv2d(128, 32, kernel_size=(1, 1), stride=(1, 1))\n",
       "              (1): LayerNorm()\n",
       "            )\n",
       "          )\n",
       "          (norm): LayerNorm()\n",
       "        )\n",
       "      )\n",
       "      (3): ConvTranspose2d(32, 32, kernel_size=(4, 4), stride=(2, 2), padding=(1, 1))\n",
       "    )\n",
       "    (1): ModuleList(\n",
       "      (0): ResnetBlock(\n",
       "        (mlp): Sequential(\n",
       "          (0): SiLU()\n",
       "          (1): Linear(in_features=32, out_features=32, bias=True)\n",
       "        )\n",
       "        (block1): Block(\n",
       "          (proj): Conv2d(64, 16, kernel_size=(3, 3), stride=(1, 1), padding=(1, 1))\n",
       "          (norm): GroupNorm(8, 16, eps=1e-05, affine=True)\n",
       "          (act): SiLU()\n",
       "        )\n",
       "        (block2): Block(\n",
       "          (proj): Conv2d(16, 16, kernel_size=(3, 3), stride=(1, 1), padding=(1, 1))\n",
       "          (norm): GroupNorm(8, 16, eps=1e-05, affine=True)\n",
       "          (act): SiLU()\n",
       "        )\n",
       "        (res_conv): Conv2d(64, 16, kernel_size=(1, 1), stride=(1, 1))\n",
       "      )\n",
       "      (1): ResnetBlock(\n",
       "        (mlp): Sequential(\n",
       "          (0): SiLU()\n",
       "          (1): Linear(in_features=32, out_features=32, bias=True)\n",
       "        )\n",
       "        (block1): Block(\n",
       "          (proj): Conv2d(16, 16, kernel_size=(3, 3), stride=(1, 1), padding=(1, 1))\n",
       "          (norm): GroupNorm(8, 16, eps=1e-05, affine=True)\n",
       "          (act): SiLU()\n",
       "        )\n",
       "        (block2): Block(\n",
       "          (proj): Conv2d(16, 16, kernel_size=(3, 3), stride=(1, 1), padding=(1, 1))\n",
       "          (norm): GroupNorm(8, 16, eps=1e-05, affine=True)\n",
       "          (act): SiLU()\n",
       "        )\n",
       "        (res_conv): Identity()\n",
       "      )\n",
       "      (2): Residual(\n",
       "        (fn): PreNorm(\n",
       "          (fn): LinearAttention(\n",
       "            (to_qkv): Conv2d(16, 384, kernel_size=(1, 1), stride=(1, 1), bias=False)\n",
       "            (to_out): Sequential(\n",
       "              (0): Conv2d(128, 16, kernel_size=(1, 1), stride=(1, 1))\n",
       "              (1): LayerNorm()\n",
       "            )\n",
       "          )\n",
       "          (norm): LayerNorm()\n",
       "        )\n",
       "      )\n",
       "      (3): ConvTranspose2d(16, 16, kernel_size=(4, 4), stride=(2, 2), padding=(1, 1))\n",
       "    )\n",
       "    (2): ModuleList(\n",
       "      (0): ResnetBlock(\n",
       "        (mlp): Sequential(\n",
       "          (0): SiLU()\n",
       "          (1): Linear(in_features=32, out_features=16, bias=True)\n",
       "        )\n",
       "        (block1): Block(\n",
       "          (proj): Conv2d(32, 8, kernel_size=(3, 3), stride=(1, 1), padding=(1, 1))\n",
       "          (norm): GroupNorm(8, 8, eps=1e-05, affine=True)\n",
       "          (act): SiLU()\n",
       "        )\n",
       "        (block2): Block(\n",
       "          (proj): Conv2d(8, 8, kernel_size=(3, 3), stride=(1, 1), padding=(1, 1))\n",
       "          (norm): GroupNorm(8, 8, eps=1e-05, affine=True)\n",
       "          (act): SiLU()\n",
       "        )\n",
       "        (res_conv): Conv2d(32, 8, kernel_size=(1, 1), stride=(1, 1))\n",
       "      )\n",
       "      (1): ResnetBlock(\n",
       "        (mlp): Sequential(\n",
       "          (0): SiLU()\n",
       "          (1): Linear(in_features=32, out_features=16, bias=True)\n",
       "        )\n",
       "        (block1): Block(\n",
       "          (proj): Conv2d(8, 8, kernel_size=(3, 3), stride=(1, 1), padding=(1, 1))\n",
       "          (norm): GroupNorm(8, 8, eps=1e-05, affine=True)\n",
       "          (act): SiLU()\n",
       "        )\n",
       "        (block2): Block(\n",
       "          (proj): Conv2d(8, 8, kernel_size=(3, 3), stride=(1, 1), padding=(1, 1))\n",
       "          (norm): GroupNorm(8, 8, eps=1e-05, affine=True)\n",
       "          (act): SiLU()\n",
       "        )\n",
       "        (res_conv): Identity()\n",
       "      )\n",
       "      (2): Residual(\n",
       "        (fn): PreNorm(\n",
       "          (fn): LinearAttention(\n",
       "            (to_qkv): Conv2d(8, 384, kernel_size=(1, 1), stride=(1, 1), bias=False)\n",
       "            (to_out): Sequential(\n",
       "              (0): Conv2d(128, 8, kernel_size=(1, 1), stride=(1, 1))\n",
       "              (1): LayerNorm()\n",
       "            )\n",
       "          )\n",
       "          (norm): LayerNorm()\n",
       "        )\n",
       "      )\n",
       "      (3): ConvTranspose2d(8, 8, kernel_size=(4, 4), stride=(2, 2), padding=(1, 1))\n",
       "    )\n",
       "    (3): ModuleList(\n",
       "      (0): ResnetBlock(\n",
       "        (mlp): Sequential(\n",
       "          (0): SiLU()\n",
       "          (1): Linear(in_features=32, out_features=16, bias=True)\n",
       "        )\n",
       "        (block1): Block(\n",
       "          (proj): Conv2d(16, 8, kernel_size=(3, 3), stride=(1, 1), padding=(1, 1))\n",
       "          (norm): GroupNorm(8, 8, eps=1e-05, affine=True)\n",
       "          (act): SiLU()\n",
       "        )\n",
       "        (block2): Block(\n",
       "          (proj): Conv2d(8, 8, kernel_size=(3, 3), stride=(1, 1), padding=(1, 1))\n",
       "          (norm): GroupNorm(8, 8, eps=1e-05, affine=True)\n",
       "          (act): SiLU()\n",
       "        )\n",
       "        (res_conv): Conv2d(16, 8, kernel_size=(1, 1), stride=(1, 1))\n",
       "      )\n",
       "      (1): ResnetBlock(\n",
       "        (mlp): Sequential(\n",
       "          (0): SiLU()\n",
       "          (1): Linear(in_features=32, out_features=16, bias=True)\n",
       "        )\n",
       "        (block1): Block(\n",
       "          (proj): Conv2d(8, 8, kernel_size=(3, 3), stride=(1, 1), padding=(1, 1))\n",
       "          (norm): GroupNorm(8, 8, eps=1e-05, affine=True)\n",
       "          (act): SiLU()\n",
       "        )\n",
       "        (block2): Block(\n",
       "          (proj): Conv2d(8, 8, kernel_size=(3, 3), stride=(1, 1), padding=(1, 1))\n",
       "          (norm): GroupNorm(8, 8, eps=1e-05, affine=True)\n",
       "          (act): SiLU()\n",
       "        )\n",
       "        (res_conv): Identity()\n",
       "      )\n",
       "      (2): Residual(\n",
       "        (fn): PreNorm(\n",
       "          (fn): LinearAttention(\n",
       "            (to_qkv): Conv2d(8, 384, kernel_size=(1, 1), stride=(1, 1), bias=False)\n",
       "            (to_out): Sequential(\n",
       "              (0): Conv2d(128, 8, kernel_size=(1, 1), stride=(1, 1))\n",
       "              (1): LayerNorm()\n",
       "            )\n",
       "          )\n",
       "          (norm): LayerNorm()\n",
       "        )\n",
       "      )\n",
       "      (3): Identity()\n",
       "    )\n",
       "  )\n",
       "  (mid_block1): ResnetBlock(\n",
       "    (mlp): Sequential(\n",
       "      (0): SiLU()\n",
       "      (1): Linear(in_features=32, out_features=128, bias=True)\n",
       "    )\n",
       "    (block1): Block(\n",
       "      (proj): Conv2d(64, 64, kernel_size=(3, 3), stride=(1, 1), padding=(1, 1))\n",
       "      (norm): GroupNorm(8, 64, eps=1e-05, affine=True)\n",
       "      (act): SiLU()\n",
       "    )\n",
       "    (block2): Block(\n",
       "      (proj): Conv2d(64, 64, kernel_size=(3, 3), stride=(1, 1), padding=(1, 1))\n",
       "      (norm): GroupNorm(8, 64, eps=1e-05, affine=True)\n",
       "      (act): SiLU()\n",
       "    )\n",
       "    (res_conv): Identity()\n",
       "  )\n",
       "  (mid_attn): Residual(\n",
       "    (fn): PreNorm(\n",
       "      (fn): Attention(\n",
       "        (to_qkv): Conv2d(64, 384, kernel_size=(1, 1), stride=(1, 1), bias=False)\n",
       "        (to_out): Conv2d(128, 64, kernel_size=(1, 1), stride=(1, 1))\n",
       "      )\n",
       "      (norm): LayerNorm()\n",
       "    )\n",
       "  )\n",
       "  (mid_block2): ResnetBlock(\n",
       "    (mlp): Sequential(\n",
       "      (0): SiLU()\n",
       "      (1): Linear(in_features=32, out_features=128, bias=True)\n",
       "    )\n",
       "    (block1): Block(\n",
       "      (proj): Conv2d(64, 64, kernel_size=(3, 3), stride=(1, 1), padding=(1, 1))\n",
       "      (norm): GroupNorm(8, 64, eps=1e-05, affine=True)\n",
       "      (act): SiLU()\n",
       "    )\n",
       "    (block2): Block(\n",
       "      (proj): Conv2d(64, 64, kernel_size=(3, 3), stride=(1, 1), padding=(1, 1))\n",
       "      (norm): GroupNorm(8, 64, eps=1e-05, affine=True)\n",
       "      (act): SiLU()\n",
       "    )\n",
       "    (res_conv): Identity()\n",
       "  )\n",
       "  (final_res_block): ResnetBlock(\n",
       "    (mlp): Sequential(\n",
       "      (0): SiLU()\n",
       "      (1): Linear(in_features=32, out_features=16, bias=True)\n",
       "    )\n",
       "    (block1): Block(\n",
       "      (proj): Conv2d(16, 8, kernel_size=(3, 3), stride=(1, 1), padding=(1, 1))\n",
       "      (norm): GroupNorm(8, 8, eps=1e-05, affine=True)\n",
       "      (act): SiLU()\n",
       "    )\n",
       "    (block2): Block(\n",
       "      (proj): Conv2d(8, 8, kernel_size=(3, 3), stride=(1, 1), padding=(1, 1))\n",
       "      (norm): GroupNorm(8, 8, eps=1e-05, affine=True)\n",
       "      (act): SiLU()\n",
       "    )\n",
       "    (res_conv): Conv2d(16, 8, kernel_size=(1, 1), stride=(1, 1))\n",
       "  )\n",
       "  (final_conv): Conv2d(8, 2, kernel_size=(1, 1), stride=(1, 1))\n",
       ")"
      ]
     },
     "execution_count": 173,
     "metadata": {},
     "output_type": "execute_result"
    }
   ],
   "source": [
    "# set up u net model\n",
    "from diffusion_unet import Unet\n",
    "model = Unet(\n",
    "    dim=8,  # Starting number of filters\n",
    "    init_dim=None,\n",
    "    out_dim=2,  # Output channels for x and y deformation fields\n",
    "    dim_mults=(1, 2, 4, 8),  # Multipliers for the channel dimensions at each stage\n",
    "    channels=2,  # Input has 2 channels (original and deformed images)\n",
    "    resnet_block_groups=8,  # Number of groups for grouped convolution in Resnet blocks, tweak as needed\n",
    "    learned_variance=False,  # Set based on whether you need to predict variance alongside deformation\n",
    "    conditional_dimensions=0,  # Adjust if you use conditional inputs\n",
    "    patch_size=1,  # Use 1 to avoid patching (since your data is already fairly low resolution)\n",
    "    attention_layer=None  # Define layers where attention should be applied, if necessary\n",
    "    \n",
    ")\n",
    "\n",
    "model.to(device)"
   ]
  },
  {
   "cell_type": "code",
   "execution_count": 174,
   "metadata": {},
   "outputs": [],
   "source": [
    "criterion = nn.MSELoss()\n",
    "\n",
    "optimizer = optim.Adam(model.parameters(), lr=0.004, weight_decay=1e-5)"
   ]
  },
  {
   "cell_type": "code",
   "execution_count": 177,
   "metadata": {},
   "outputs": [
    {
     "name": "stderr",
     "output_type": "stream",
     "text": [
      "Training Epoch 1/20:   0%|          | 0/1 [00:00<?, ?it/s]"
     ]
    },
    {
     "name": "stderr",
     "output_type": "stream",
     "text": [
      "Training Epoch 1/20: 100%|██████████| 1/1 [00:00<00:00,  1.05it/s, loss=0.0909]\n",
      "Validation: 100%|██████████| 1/1 [00:00<00:00, 10.00it/s, val_loss=0.0666]\n"
     ]
    },
    {
     "name": "stdout",
     "output_type": "stream",
     "text": [
      "Validation Loss: 0.0665811151266098\n"
     ]
    },
    {
     "name": "stderr",
     "output_type": "stream",
     "text": [
      "Training Epoch 2/20: 100%|██████████| 1/1 [00:00<00:00,  1.71it/s, loss=0.0642]\n",
      "Validation: 100%|██████████| 1/1 [00:00<00:00,  9.40it/s, val_loss=0.0537]\n"
     ]
    },
    {
     "name": "stdout",
     "output_type": "stream",
     "text": [
      "Validation Loss: 0.053730156272649765\n"
     ]
    },
    {
     "name": "stderr",
     "output_type": "stream",
     "text": [
      "Training Epoch 3/20: 100%|██████████| 1/1 [00:00<00:00,  1.81it/s, loss=0.0508]\n",
      "Validation: 100%|██████████| 1/1 [00:00<00:00,  8.92it/s, val_loss=0.0303]\n"
     ]
    },
    {
     "name": "stdout",
     "output_type": "stream",
     "text": [
      "Validation Loss: 0.03031589277088642\n"
     ]
    },
    {
     "name": "stderr",
     "output_type": "stream",
     "text": [
      "Training Epoch 4/20: 100%|██████████| 1/1 [00:00<00:00,  1.89it/s, loss=0.0346]\n",
      "Validation: 100%|██████████| 1/1 [00:00<00:00, 10.41it/s, val_loss=0.0271]\n"
     ]
    },
    {
     "name": "stdout",
     "output_type": "stream",
     "text": [
      "Validation Loss: 0.02712828665971756\n"
     ]
    },
    {
     "name": "stderr",
     "output_type": "stream",
     "text": [
      "Training Epoch 5/20: 100%|██████████| 1/1 [00:00<00:00,  1.88it/s, loss=0.0275]\n",
      "Validation: 100%|██████████| 1/1 [00:00<00:00, 10.17it/s, val_loss=0.0216]\n"
     ]
    },
    {
     "name": "stdout",
     "output_type": "stream",
     "text": [
      "Validation Loss: 0.02156919613480568\n"
     ]
    },
    {
     "name": "stderr",
     "output_type": "stream",
     "text": [
      "Training Epoch 6/20: 100%|██████████| 1/1 [00:00<00:00,  1.56it/s, loss=0.0215]\n",
      "Validation: 100%|██████████| 1/1 [00:00<00:00,  9.64it/s, val_loss=0.0241]\n"
     ]
    },
    {
     "name": "stdout",
     "output_type": "stream",
     "text": [
      "Validation Loss: 0.024071434512734413\n"
     ]
    },
    {
     "name": "stderr",
     "output_type": "stream",
     "text": [
      "Training Epoch 7/20: 100%|██████████| 1/1 [00:00<00:00,  1.98it/s, loss=0.0234]\n",
      "Validation: 100%|██████████| 1/1 [00:00<00:00, 10.17it/s, val_loss=0.0238]\n"
     ]
    },
    {
     "name": "stdout",
     "output_type": "stream",
     "text": [
      "Validation Loss: 0.023845510557293892\n"
     ]
    },
    {
     "name": "stderr",
     "output_type": "stream",
     "text": [
      "Training Epoch 8/20: 100%|██████████| 1/1 [00:00<00:00,  1.89it/s, loss=0.0203]\n",
      "Validation: 100%|██████████| 1/1 [00:00<00:00, 10.26it/s, val_loss=0.0153]\n"
     ]
    },
    {
     "name": "stdout",
     "output_type": "stream",
     "text": [
      "Validation Loss: 0.015296315774321556\n"
     ]
    },
    {
     "name": "stderr",
     "output_type": "stream",
     "text": [
      "Training Epoch 9/20: 100%|██████████| 1/1 [00:00<00:00,  1.67it/s, loss=0.0168]\n",
      "Validation: 100%|██████████| 1/1 [00:00<00:00,  9.15it/s, val_loss=0.0159]\n"
     ]
    },
    {
     "name": "stdout",
     "output_type": "stream",
     "text": [
      "Validation Loss: 0.015944791957736015\n"
     ]
    },
    {
     "name": "stderr",
     "output_type": "stream",
     "text": [
      "Training Epoch 10/20: 100%|██████████| 1/1 [00:00<00:00,  1.76it/s, loss=0.0129]\n",
      "Validation: 100%|██████████| 1/1 [00:00<00:00, 10.00it/s, val_loss=0.0132]\n"
     ]
    },
    {
     "name": "stdout",
     "output_type": "stream",
     "text": [
      "Validation Loss: 0.013191677629947662\n"
     ]
    },
    {
     "name": "stderr",
     "output_type": "stream",
     "text": [
      "Training Epoch 11/20: 100%|██████████| 1/1 [00:00<00:00,  1.47it/s, loss=0.0161]\n",
      "Validation: 100%|██████████| 1/1 [00:00<00:00, 10.02it/s, val_loss=0.0227]\n"
     ]
    },
    {
     "name": "stdout",
     "output_type": "stream",
     "text": [
      "Validation Loss: 0.022709626704454422\n"
     ]
    },
    {
     "name": "stderr",
     "output_type": "stream",
     "text": [
      "Training Epoch 12/20: 100%|██████████| 1/1 [00:00<00:00,  1.72it/s, loss=0.0112]\n",
      "Validation: 100%|██████████| 1/1 [00:00<00:00, 10.43it/s, val_loss=0.0153]\n"
     ]
    },
    {
     "name": "stdout",
     "output_type": "stream",
     "text": [
      "Validation Loss: 0.015307378023862839\n"
     ]
    },
    {
     "name": "stderr",
     "output_type": "stream",
     "text": [
      "Training Epoch 13/20: 100%|██████████| 1/1 [00:00<00:00,  1.82it/s, loss=0.0114]\n",
      "Validation: 100%|██████████| 1/1 [00:00<00:00,  9.01it/s, val_loss=0.0117]\n"
     ]
    },
    {
     "name": "stdout",
     "output_type": "stream",
     "text": [
      "Validation Loss: 0.01171913929283619\n"
     ]
    },
    {
     "name": "stderr",
     "output_type": "stream",
     "text": [
      "Training Epoch 14/20: 100%|██████████| 1/1 [00:00<00:00,  1.90it/s, loss=0.0132]\n",
      "Validation: 100%|██████████| 1/1 [00:00<00:00,  8.68it/s, val_loss=0.0106]\n"
     ]
    },
    {
     "name": "stdout",
     "output_type": "stream",
     "text": [
      "Validation Loss: 0.010585302487015724\n"
     ]
    },
    {
     "name": "stderr",
     "output_type": "stream",
     "text": [
      "Training Epoch 15/20: 100%|██████████| 1/1 [00:00<00:00,  1.91it/s, loss=0.00622]\n",
      "Validation: 100%|██████████| 1/1 [00:00<00:00, 10.42it/s, val_loss=0.0111]\n"
     ]
    },
    {
     "name": "stdout",
     "output_type": "stream",
     "text": [
      "Validation Loss: 0.011120248585939407\n"
     ]
    },
    {
     "name": "stderr",
     "output_type": "stream",
     "text": [
      "Training Epoch 16/20: 100%|██████████| 1/1 [00:00<00:00,  1.89it/s, loss=0.01]\n",
      "Validation: 100%|██████████| 1/1 [00:00<00:00, 10.01it/s, val_loss=0.012]\n"
     ]
    },
    {
     "name": "stdout",
     "output_type": "stream",
     "text": [
      "Validation Loss: 0.011967386119067669\n"
     ]
    },
    {
     "name": "stderr",
     "output_type": "stream",
     "text": [
      "Training Epoch 17/20: 100%|██████████| 1/1 [00:00<00:00,  1.70it/s, loss=0.0122]\n",
      "Validation: 100%|██████████| 1/1 [00:00<00:00,  9.56it/s, val_loss=0.0106]\n"
     ]
    },
    {
     "name": "stdout",
     "output_type": "stream",
     "text": [
      "Validation Loss: 0.010573601350188255\n"
     ]
    },
    {
     "name": "stderr",
     "output_type": "stream",
     "text": [
      "Training Epoch 18/20: 100%|██████████| 1/1 [00:00<00:00,  1.86it/s, loss=0.0125]\n",
      "Validation: 100%|██████████| 1/1 [00:00<00:00,  9.61it/s, val_loss=0.0112]\n"
     ]
    },
    {
     "name": "stdout",
     "output_type": "stream",
     "text": [
      "Validation Loss: 0.01119008008390665\n"
     ]
    },
    {
     "name": "stderr",
     "output_type": "stream",
     "text": [
      "Training Epoch 19/20: 100%|██████████| 1/1 [00:00<00:00,  1.64it/s, loss=0.0113]\n",
      "Validation: 100%|██████████| 1/1 [00:00<00:00,  9.73it/s, val_loss=0.00745]\n"
     ]
    },
    {
     "name": "stdout",
     "output_type": "stream",
     "text": [
      "Validation Loss: 0.007446017116308212\n"
     ]
    },
    {
     "name": "stderr",
     "output_type": "stream",
     "text": [
      "Training Epoch 20/20: 100%|██████████| 1/1 [00:00<00:00,  1.98it/s, loss=0.00941]\n",
      "Validation: 100%|██████████| 1/1 [00:00<00:00,  9.71it/s, val_loss=0.00538]"
     ]
    },
    {
     "name": "stdout",
     "output_type": "stream",
     "text": [
      "Validation Loss: 0.005378560163080692\n"
     ]
    },
    {
     "name": "stderr",
     "output_type": "stream",
     "text": [
      "\n"
     ]
    }
   ],
   "source": [
    "# Train the model\n",
    "n_epochs = 20\n",
    "for epoch in range(n_epochs):\n",
    "    model.train()\n",
    "    train_loss = 0\n",
    "    # Initialize tqdm progress bar for the training batches\n",
    "    train_bar = tqdm(enumerate(train_loader), total=len(train_loader), desc=f'Training Epoch {epoch+1}/{n_epochs}')\n",
    "    for i, (images, deformation_field) in train_bar:\n",
    "        # Move data to the device\n",
    "        images = images.float().to(device)\n",
    "        deformation_field = deformation_field.to(device)\n",
    "        \n",
    "        # Zero the gradients\n",
    "        optimizer.zero_grad()\n",
    "\n",
    "        # Forward pass\n",
    "        outputs = model(images)\n",
    "\n",
    "        # Compute the loss\n",
    "        loss = criterion(outputs, deformation_field)\n",
    "        train_loss += loss.item()\n",
    "\n",
    "        # Backward pass\n",
    "        loss.backward()\n",
    "\n",
    "        # Update the weights\n",
    "        optimizer.step()\n",
    "\n",
    "        # Update the progress bar with the latest loss information\n",
    "        train_bar.set_postfix(loss=loss.item())\n",
    "    \n",
    "    # Compute the average training loss\n",
    "    avg_train_loss = train_loss / len(train_loader)\n",
    "    \n",
    "    # Validate\n",
    "    model.eval()\n",
    "    val_loss = 0\n",
    "    # Initialize tqdm progress bar for the validation batches\n",
    "    val_bar = tqdm(enumerate(val_loader), total=len(val_loader), desc='Validation')\n",
    "    with torch.no_grad():\n",
    "        for i, (images, deformation_field) in val_bar:\n",
    "            # Move validation data to the device\n",
    "            images = images.float().to(device)\n",
    "            deformation_field = deformation_field.to(device)\n",
    "            \n",
    "            outputs = model(images)\n",
    "            batch_loss = criterion(outputs, deformation_field).item()\n",
    "            val_loss += batch_loss\n",
    "            \n",
    "            # Update the progress bar for validation\n",
    "            val_bar.set_postfix(val_loss=batch_loss)\n",
    "        \n",
    "        # Compute the average validation loss\n",
    "        avg_val_loss = val_loss / len(val_loader)\n",
    "        print(f'Validation Loss: {avg_val_loss}')"
   ]
  },
  {
   "cell_type": "code",
   "execution_count": 178,
   "metadata": {},
   "outputs": [
    {
     "data": {
      "image/png": "[encoded data removed]",
      "text/plain": [
       "<Figure size 2400x2400 with 12 Axes>"
      ]
     },
     "metadata": {},
     "output_type": "display_data"
    }
   ],
   "source": [
    "# Get some predichted DF and images from the trained model\n",
    "\n",
    "model.eval()\n",
    "with torch.no_grad():\n",
    "    images, deformation_fields = next(iter(test_loader))\n",
    "    # Move data to the device\n",
    "    images = images.float().to(device)\n",
    "    deformation_fields = deformation_fields.to(device)\n",
    "    \n",
    "    outputs = model(images)\n",
    "    \n",
    "    # Plot the original and deformed images\n",
    "    fig, axes = plt.subplots(6, num_samples, figsize=(24, 24))\n",
    "    for i in range(num_samples):\n",
    "        ax = axes[0, i] # [0, i]\n",
    "        ax.imshow(images[i, 0].numpy(), cmap='gray')\n",
    "        ax.title.set_text('Original Image')\n",
    "        ax.axis('off')\n",
    "\n",
    "        ax = axes[1, i] # [1, i]\n",
    "        ax.imshow(images[i, 1].numpy(), cmap='gray')\n",
    "        ax.title.set_text('Deformed Image')\n",
    "        ax.axis('off')\n",
    "\n",
    "        ax = axes[2, i] # [2, i]\n",
    "        ax.imshow(outputs[i, 0].numpy(), cmap='gray')\n",
    "        ax.title.set_text('Predicted Displacement X')\n",
    "        ax.axis('off')\n",
    "        \n",
    "        ax = axes[3, i]      \n",
    "        ax.imshow(outputs[i, 1].numpy(), cmap='gray')\n",
    "        ax.title.set_text('Predicted Displacement Y')\n",
    "        ax.axis('off')\n",
    "        \n",
    "        ax = axes[4, i]\n",
    "        ax.imshow(deformation_fields[i, 0].numpy(), cmap='gray')\n",
    "        ax.title.set_text('Ground Truth Displacement X')\n",
    "        ax.axis('off')\n",
    "        \n",
    "        ax = axes[5, i]\n",
    "        ax.imshow(deformation_fields[i, 1].numpy(), cmap='gray')\n",
    "        ax.title.set_text('Ground Truth Displacement Y')\n",
    "        ax.axis('off')"
   ]
  }
 ],
 "metadata": {
  "kernelspec": {
   "display_name": "Python 3",
   "language": "python",
   "name": "python3"
  },
  "language_info": {
   "codemirror_mode": {
    "name": "ipython",
    "version": 3
   },
   "file_extension": ".py",
   "mimetype": "text/x-python",
   "name": "python",
   "nbconvert_exporter": "python",
   "pygments_lexer": "ipython3",
   "version": "3.12.3"
  }
 },
 "nbformat": 4,
 "nbformat_minor": 2
}
